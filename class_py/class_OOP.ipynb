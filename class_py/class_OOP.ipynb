{
 "cells": [
  {
   "cell_type": "code",
   "execution_count": 2,
   "metadata": {},
   "outputs": [],
   "source": [
    "class Account(object):\n",
    "    def __init__(self,account_number,firstname,lastname,account_balance):\n",
    "        self.firstname = firstname\n",
    "        self.lastname = lastname\n",
    "        self.account_balance = account_balance if account_balance > 0 else 0\n",
    "        self.account_number = account_number if account_number > 100001 else 0\n",
    "    def display(self):\n",
    "        print (self.firstname)\n",
    "        print (self.lastname)\n",
    "        print (self.account_balance)\n",
    "        print (self.account_number)\n",
    "        "
   ]
  },
  {
   "cell_type": "code",
   "execution_count": 3,
   "metadata": {},
   "outputs": [],
   "source": [
    "ob = Account(100,\"kartik\",\"kumar\",32132)"
   ]
  },
  {
   "cell_type": "code",
   "execution_count": 4,
   "metadata": {},
   "outputs": [
    {
     "name": "stdout",
     "output_type": "stream",
     "text": [
      "kartik\n",
      "kumar\n",
      "32132\n",
      "0\n"
     ]
    }
   ],
   "source": [
    "ob.display()"
   ]
  },
  {
   "cell_type": "code",
   "execution_count": null,
   "metadata": {},
   "outputs": [],
   "source": []
  }
 ],
 "metadata": {
  "kernelspec": {
   "display_name": "Python 3",
   "language": "python",
   "name": "python3"
  },
  "language_info": {
   "codemirror_mode": {
    "name": "ipython",
    "version": 3
   },
   "file_extension": ".py",
   "mimetype": "text/x-python",
   "name": "python",
   "nbconvert_exporter": "python",
   "pygments_lexer": "ipython3",
   "version": "3.6.9"
  }
 },
 "nbformat": 4,
 "nbformat_minor": 2
}
